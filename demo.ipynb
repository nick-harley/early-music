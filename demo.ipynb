{
 "cells": [
  {
   "cell_type": "markdown",
   "id": "e9e75532-5132-495c-aadd-2dea442a922c",
   "metadata": {},
   "source": [
    "# A Common Hierarchical Abstract Representation of Music: applications in historical musicology\n",
    "\n",
    "THIS NOTEBOOK IS A WORK IN PROGRESS AND IS UNDER CONTINUAL DEVELOPMENT. \n",
    "\n",
    "Given a more-or-less comprehensive corpus of encoded historical lute tablatures like the augmented ‘Electronic Corpus of Lute Music’ (ECOLM) currently under development, an entirely new mode of investigation of the corpus and its relation to other repertories, such as contemporary vocal or keyboard music, could become possible. Text-based encodings of works may be directly compared using exact matching, but this does not allow recognition of transposed versions, or those for a differently-tuned instrument than a query; furthermore, duple- and triple-time versions of the same music will not, in general, be matched, nor those in which durations have been globally augmented or diminished. While ingenious indexing strategies might overcome some of these problems for a particular repertory of music (for example, the 16th-century lute fantasy and related genres), they are unlikely to permit extra-corpus searches for parallel motives or passages within contemporary vocal music, which have long been recognised as crucial in the evolution of western lute music.  \n",
    "  \n",
    "We present CHARM, an abstract, hierarchical music knowledge representation system that admits federation of data sources in multiple formats by means of semantic-level annotation and query specification. From the user’s perspective, search and discovery operations are specified in terms of musical terminology applied to “constituents” (groups of musical objects – e.g., notes, phrases, motives, etc.), independently of the data source and format. CHARM is equipped with data interfaces for MIDI and TabCode (other formats in progress), and it can represent audio recordings, allowing detailed association of individual notes with specific spectral content, permitting the annotation of richly detailed analyses of sources and their direct, detailed connection with performance recordings.\n",
    "\n",
    "In this notebook we demonstrate how CHARM can be used to construct music knowledge bases from encodings of lute tablature. Using CHARM to construct knowledge bases requires the implementation of interfaces for concrete data sources and engineering the coordination of these interfaces. Here we use the Julia programming language, which has an expressive type system and method overloading, the combination of which is exploited to implement interfaces with type-based dynamic dispatch.\n",
    "\n",
    "The code below contains 1) the CHARM definition in Julia 2) a CHARM interface for tabcode 3) an example knowledge base for a tabcode file 4) an augmentation of this representation with a representation of the topline 5) how to knowledge bases can be queried using the CHARM query language."
   ]
  },
  {
   "cell_type": "markdown",
   "id": "eb5968af-c350-47f6-bc73-34e7576a11af",
   "metadata": {
    "jp-MarkdownHeadingCollapsed": true
   },
   "source": [
    "## CHARM"
   ]
  },
  {
   "cell_type": "code",
   "execution_count": 3,
   "id": "6a81b4fa-554f-4fc4-ad35-c4eb7e53e87d",
   "metadata": {},
   "outputs": [],
   "source": [
    "module CHARM\n",
    "\n",
    "export option, none, fnd, geta, getp, pts, dom, cts\n",
    "\n",
    "struct None end\n",
    "none = None()\n",
    "option{A} = Union{A,None}\n",
    "\n",
    "# Abstract Types\n",
    "\n",
    "abstract type Id end\n",
    "abstract type Constituent end\n",
    "abstract type Hierarchy end\n",
    "abstract type Attribute{N,T} end\n",
    "abstract type Property{N,T} end\n",
    "\n",
    "# Registered Attributes and Properties \n",
    "\n",
    "__attributes__(::Val{N}) where N = error(\"No attribute named $N.\")\n",
    "__attributes__(N::Symbol) = __attributes__(Val{N}())\n",
    "__properties__(::Val{N}) where N = error(\"No property named $N.\")\n",
    "__properties__(N::Symbol) = __properties__(Val{N}())\n",
    "\n",
    "# Interface Operations\n",
    "\n",
    "fnd(x::Id,h::Hierarchy) = none\n",
    "fnd(x::Id,m::Module) = fnd(x,m.__data__)\n",
    "\n",
    "geta(::Attribute,c::Constituent) = none\n",
    "geta(N::Symbol,c) = geta(__attributes__(Val{N}()),c)\n",
    "\n",
    "getp(::Property,c::Constituent) = none\n",
    "getp(N::Symbol,c) = getp(__properties__(Val{N}()),c)\n",
    "\n",
    "pts(c::Constituent) = Id[]\n",
    "\n",
    "dom(h::Hierarchy) = Id[]\n",
    "dom(m::Module) = dom(m.__data__)\n",
    "\n",
    "#sequence(ids,kb) = [fnd(x,kb) for x in ids]\n",
    "#cts(kb) = sequence(dom(kb),kb)\n",
    "\n",
    "cts(kb) = Pair{Id,Constituent}[x=>fnd(x,kb) for x in dom(kb)]\n",
    "\n",
    "sequence(ids,kb) = begin\n",
    "    isempty(ids) && return Constituent[]\n",
    "    c = fnd(ids[1],kb)\n",
    "    c isa None && return none\n",
    "    r = sequence(ids[2:end],kb)\n",
    "    r isa None && return none\n",
    "    return Constituent[c,r...]\n",
    "end\n",
    "\n",
    "# PROPERTIES\n",
    "\n",
    "export DESCRIPTION, TYPE\n",
    "\n",
    "struct DESCRIPTION <: Property{:DESCRIPTION,String} end\n",
    "__properties__(::Val{:DESCRIPTION}) = DESCRIPTION()\n",
    "\n",
    "struct TYPE <: Property{:TYPE,String} end\n",
    "__properties__(::Val{:TYPE}) = TYPE()\n",
    "\n",
    "# ATTRIBUTES\n",
    "\n",
    "export PITCH, DUR\n",
    "\n",
    "struct PITCH <: Attribute{:PITCH,Int} end\n",
    "__attributes__(::Val{:PITCH}) = PITCH()\n",
    "\n",
    "struct DUR <: Attribute{:DUR,String} end\n",
    "__attributes__(::Val{:DUR}) = DUR()\n",
    "\n",
    "end\n",
    "\n",
    "using Main.CHARM"
   ]
  },
  {
   "cell_type": "markdown",
   "id": "75ea153b-0fbe-484c-8f94-4a135c2943e0",
   "metadata": {
    "jp-MarkdownHeadingCollapsed": true
   },
   "source": [
    "### CHARM Query Language"
   ]
  },
  {
   "cell_type": "code",
   "execution_count": 5,
   "id": "8fb52d83-0165-4a23-9b50-b79a0ea42a1e",
   "metadata": {},
   "outputs": [],
   "source": [
    "PAIR(X,Y) = Pair{x,y} where {x<:X,y<:Y}\n",
    "LST(X) = Vector{x} where {x<:X}\n",
    "OPT(X) = Union{X,CHARM.None}\n",
    "ID = CHARM.Id\n",
    "C = CHARM.Constituent\n",
    "CON = PAIR(ID,C)\n",
    "G = LST(CON)\n",
    "\n",
    "domain(cs::G) = first.(cs)\n",
    "\n",
    "mem(x::ID,cs::G)::Bool = x in domain(cs)\n",
    "mem(xs::LST(ID),cs::G) = all([mem(x,cs) for x in xs])\n",
    "\n",
    "position(x::ID,cs::G) = findfirst(==(x),domain(cs))\n",
    "\n",
    "lookup(x::ID,cs::G) = mem(x,cs) ? cs[position(x,cs)] : none\n",
    "\n",
    "lookup(xs::LST(ID),cs::G)::option{CON} = begin\n",
    "    res = Pair{CHARM.Id,CHARM.Constituent}[]\n",
    "    for x in xs\n",
    "        c = lookup(x,cs)\n",
    "        c == none && return none\n",
    "        union!(res,[c])\n",
    "    end\n",
    "    return res\n",
    "end\n",
    "\n",
    "pop(x::ID,cs::G) = begin \n",
    "    !mem(x,cs) && return CON[]\n",
    "    return cs[position(x,cs):end]\n",
    "end\n",
    "\n",
    "parts(x::ID,cs::G) = begin \n",
    "    !mem(x,cs) && return none\n",
    "    c = lookup(x,cs)\n",
    "    return lookup(pts(c[2]),cs)\n",
    "end\n",
    "parts(c::CON,cs::G) = lookup(pts(c[2]),cs)\n",
    "\n",
    "subparts(x::ID,cs::G) = begin\n",
    "    isempty(cs) && return CON[]\n",
    "    c = lookup(x,cs)\n",
    "    c == none && return CON[]\n",
    "    res = CON[c]\n",
    "    ps = pts(c[2])\n",
    "    for p in ps\n",
    "        union!(res,subparts(p,pop(p,cs)))\n",
    "    end\n",
    "    return res\n",
    "end\n",
    "\n",
    "subparts(xs::LST(ID),cs::G) = begin\n",
    "    res = CON[]\n",
    "    [union!(res,subparts(x,cs)) for x in xs]\n",
    "    return [c for c in cs if c in res]\n",
    "end\n",
    "\n",
    "superparts(x::ID,cs::G) = begin\n",
    "    isempty(cs) && return CON[]\n",
    "    c = lookup(x,cs)\n",
    "    c == none && return CON[]\n",
    "    res = CON[c]\n",
    "    for c2 in reverse(cs[1:position(x,cs)])\n",
    "        if x in pts(c2[2])\n",
    "            push!(res,c2)\n",
    "            union!(res,superparts(c2[1],cs))\n",
    "        end\n",
    "    end\n",
    "    return reverse(res)\n",
    "end\n",
    "\n",
    "superparts(xs::LST(ID),cs::G) = begin \n",
    "    res = CON[]\n",
    "    [union!(res,superparts(x,cs)) for x in xs]\n",
    "    return [c for c in cs if c in res]\n",
    "end\n",
    "\n",
    "haspart(x::ID,y::ID,cs::G) = begin\n",
    "    !(mem(x,cs)) && return false\n",
    "    return y in first.(parts(x,cs))\n",
    "end\n",
    "\n",
    "ispartof(x::ID,y::ID,cs::G) = haspart(y,x,cs)\n",
    "\n",
    "hassubpart(x,y,cs) = begin\n",
    "    y in first.(subparts(x,cs))\n",
    "end\n",
    "\n",
    "issubpartof(x::ID,y::ID,cs::G) = hassubpart(y,x,cs)\n",
    "\n",
    "isdag(cs::G) = begin \n",
    "    isempty(cs) && return true\n",
    "    x,c = cs[1]\n",
    "    t = cs[2:end]\n",
    "    ps = pts(c)\n",
    "    mem(x,t) && (print(\"!!!\"); return false)\n",
    "    !mem(ps,t) && (print(\"!!!$x\"); return false)\n",
    "    !isdag(t) && (print(\"!!!\"); return false)\n",
    "    return true\n",
    "end\n",
    "isleaf(x::ID,cs::G) = begin \n",
    "    c = lookup(x,cs) \n",
    "    return c != none && isempty(pts(c[2]))\n",
    "end\n",
    "istree(cs::G) = begin\n",
    "    isempty(cs) && return true\n",
    "    x,c = cs[1]\n",
    "    t = cs[2:end]\n",
    "    sps = [subparts(p[1],cs) for p in parts(x,cs)]\n",
    "    for p in parts(x)\n",
    "        return isleaf(p,cs) || istree(p,cs)\n",
    "    end\n",
    "end\n",
    "\n",
    "PTY{N,T} = CHARM.Property{N,t} where {t<:T}\n",
    "ATT{N,T} = CHARM.Attribute{N,t} where {t<:T}\n",
    "\n",
    "# READ(A) : G -> option A x G \n",
    "\n",
    "abstract type READ{A} end\n",
    "\n",
    "(R::READ{A})(cs::G) where A = R.op(cs)::option{A}\n",
    "\n",
    "struct Read{A} <: READ{A}\n",
    "    op::Function\n",
    "    Read(A,f) = new{A}(f)\n",
    "    Read(A) = new{A}(cs->none)\n",
    "end\n",
    "\n",
    "abstract type KLEISLI{A,B} end\n",
    "\n",
    "function (K::KLEISLI{A,B})(a) where {A,B}\n",
    "    a==none && return Read(B)\n",
    "    Read(B,K.op(a))\n",
    "end\n",
    "\n",
    "function(K::KLEISLI{A,B})(a::A,cs::G) where {A,B}\n",
    "    K(a)(cs)\n",
    "end\n",
    "\n",
    "struct BIND{A,B} <: READ{B}\n",
    "    op\n",
    "    BIND(R::READ{A},F::KLEISLI{A,B}) where {A,B} = new{A,B}(cs->F(R(cs),cs))\n",
    "end\n",
    "\n",
    "struct COMP{A,B} <: KLEISLI{A,B}\n",
    "    op\n",
    "    COMP(F::KLEISLI{A,B},G::KLEISLI{B,C}) where {A,B,C} = new{A,C}(x->cs->G(F(x,cs),cs))\n",
    "end\n",
    "\n",
    "COMP(f::KLEISLI,gs::KLEISLI...) = isempty(gs) ? f : COMP(f,COMP(gs...))\n",
    "\n",
    "QUERY(R::READ,KS::KLEISLI...) = BIND(R,COMP(KS...))\n",
    "\n",
    "struct PTS <: KLEISLI{CON,LST(CON)}\n",
    "    op\n",
    "    PTS() = new(c->cs->parts(c,cs))\n",
    "end\n",
    "\n",
    "struct GETA{N,T} <: KLEISLI{CON,T}\n",
    "    op\n",
    "    GETA(a::ATT{N,T}) where {N,T} = new{N,T}(c->cs->geta(a,c[2]))\n",
    "    GETA(N::Symbol) = GETA(CHARM.__attributes__(N))\n",
    "end\n",
    "\n",
    "struct GETP{N,T} <: KLEISLI{CON,T}\n",
    "    op\n",
    "    GETP(a::PTY{N,T}) where {N,T} = new{N,T}(c->cs->getp(a,c[2]))\n",
    "    GETP(N::Symbol) = GETP(CHARM.__properties__(N))\n",
    "end\n",
    "\n",
    "struct HASA <: KLEISLI{CON,Bool}\n",
    "    op\n",
    "    HASA(N::Symbol,v) = new(c->cs->geta(N,c[2])==v)\n",
    "    HASA(N::Symbol) = new(c->cs->geta(N,c[2])!=none)\n",
    "end\n",
    "\n",
    "struct HASP <: KLEISLI{CON,Bool}\n",
    "    op\n",
    "    HASP(N::Symbol,v) = new(c->cs->getp(N,c[2])==v)\n",
    "    HASP(N::Symbol) = new(c->cs->getp(N,c[2])!=none)\n",
    "end\n",
    "\n",
    "struct FIRSTPART <: KLEISLI{CON,Bool}\n",
    "    op\n",
    "    FIRSTPART(T::KLEISLI) = new(c->cs->(ps = parts(c,cs); isempty(ps) ? false : T(first(ps))(cs)))\n",
    "    FIRSTPART(x::ID) = FIRSTPART(c->cs->c[1]==x)\n",
    "end\n",
    "\n",
    "struct LASTPART <: KLEISLI{CON,Bool}\n",
    "    op\n",
    "    LASTPART(T) = new(c->cs->(ps = parts(c,cs); isempty(ps) ? false : T(last(ps))(cs)))\n",
    "    LASTPART(x::ID) = LASTPART(c->cs->c[1]==x)\n",
    "end\n",
    "\n",
    "struct ALLPARTS <: KLEISLI{CON,Bool}\n",
    "    op\n",
    "    ALLPARTS(T) = new(c->cs->all([T(p,cs) for p in parts(c,cs)])) \n",
    "end\n",
    "\n",
    "struct SOMEPART <: KLEISLI{CON,Bool}\n",
    "    op\n",
    "    SOMEPART(T) = new(c->cs->any([T(p,cs) for p in parts(c,cs)]))\n",
    "end\n",
    "\n",
    "struct AND <: KLEISLI{CON,Bool}\n",
    "    op\n",
    "    AND(f::KLEISLI,g::KLEISLI) = new(a->cs->f(a,cs)&&g(a,cs))\n",
    "    AND(f::KLEISLI,gs::KLEISLI...) = isempty(gs) ? f : AND(AND(f,gs[1]),gs[2:end]...)\n",
    "end\n",
    "\n",
    "struct SELECT <: READ{G}\n",
    "    op\n",
    "    SELECT(T::KLEISLI{CON,Bool}) = new(cs->[c for c in cs if T(c)(cs)])\n",
    "    SELECT(x) = new(cs->[lookup(x,cs)])\n",
    "end\n",
    "\n",
    "opmap(B,f,l) = begin\n",
    "    isempty(l) && return B[]\n",
    "    h = f(l[1])\n",
    "    t = opmap(B,f,l[2:end])\n",
    "    h == none && return none\n",
    "    t == none && return none\n",
    "    return B[h,t...]\n",
    "end\n",
    "\n",
    "struct MAP{A,B} <: KLEISLI{LST(A),LST(B)}\n",
    "    op\n",
    "    MAP(f::KLEISLI{A,B}) where {A,B} = new{A,B}(l->cs->opmap(B,x->f(x)(cs),l))\n",
    "end\n",
    "\n",
    "struct RET{A} <: READ{A}\n",
    "    op\n",
    "    RET(v::A) where A = new{A}(_->v)\n",
    "end\n",
    "\n",
    "struct SUBCS <: KLEISLI{CON,G}\n",
    "    op\n",
    "    SUBCS() = new(c->cs->subparts(c,cs))\n",
    "end\n",
    "\n",
    "struct PROJ <: KLEISLI{CON,G}\n",
    "    op\n",
    "    PROJ(T::KLEISLI{CON,Bool}) = new(c->cs->CON[x for x in subparts(c[1],cs) if T(x,cs)])\n",
    "end\n",
    "\n",
    "struct SUM <: KLEISLI{LST(Float64),Float64}\n",
    "    op\n",
    "    SUM() = new(l->cs->sum(l))\n",
    "end\n",
    "\n",
    "struct AVG <: KLEISLI{LST(Float64),Float64}\n",
    "    op\n",
    "    AVG() = new(l->cs->sum(l)/length(l))\n",
    "end"
   ]
  },
  {
   "cell_type": "markdown",
   "id": "42c601b2-25db-4ede-8979-1a44abe6f1cd",
   "metadata": {
    "jp-MarkdownHeadingCollapsed": true
   },
   "source": [
    "## Tabcode Example"
   ]
  },
  {
   "cell_type": "markdown",
   "id": "5f1ce79d-d267-419c-b4d8-3a6990f8cae5",
   "metadata": {},
   "source": [
    "```\n",
    "{<rules>\n",
    "<tuning_named>renaissance</tuning_named>\n",
    "<pitch>67</pitch>\n",
    " <rhythm-font>varietie</rhythm-font>\n",
    "<bass_tuning>(-2)</bass_tuning>\n",
    "</rules>}\n",
    "M(C/)\n",
    "Qa1a2b3c4a6\n",
    "E.c4\n",
    "Td2\n",
    "b2\n",
    "Ea2b3c4\n",
    "d3\n",
    "Sd1a2\n",
    "b2\n",
    "a2\n",
    "d3\n",
    "|\n",
    "Sa1b3d5\n",
    "d3\n",
    "b3\n",
    "a3\n",
    "c4d5\n",
    "a3\n",
    "b3\n",
    "d3\n",
    "e2a3c5\n",
    "c2\n",
    "a2\n",
    "c2\n",
    "e2a3c5\n",
    "a1\n",
    "c1\n",
    "e2\n",
    "|\n",
    "```"
   ]
  },
  {
   "cell_type": "markdown",
   "id": "e1423e88-acbc-43ab-9e65-c66c258d7310",
   "metadata": {
    "jp-MarkdownHeadingCollapsed": true
   },
   "source": [
    "## Parse to JSON with Parsetab"
   ]
  },
  {
   "cell_type": "markdown",
   "id": "a33a1897-c332-4273-8f1f-4d370142a7e7",
   "metadata": {},
   "source": [
    "Install parsetab: https://github.com/jamieforth/parsetab\n",
    "\n",
    "Convert tabcode `input.tc` to json.\n",
    "\n",
    "```\n",
    "parsetab tc2json input.tc\n",
    "```"
   ]
  },
  {
   "cell_type": "markdown",
   "id": "eaff5633-4cac-4334-946c-de05937fca96",
   "metadata": {},
   "source": [
    "```json\n",
    "[{\"code\":\"{<rules>\\n<tuning_named>renaissance</tuning_named>\\n<pitch>67</pitch>\\n <rhythm-font>varietie</rhythm-font>\\n<bass_tuning>(-2)</bass_tuning>\\n</rules>}\",\"fType\":\"Ruleset\",\"rules\":{\"notation\":\"French\",\"pitch\":67,\"tuning_named\":\"renaissance\",\"rhythm-font\":\"varietie\",\"bass_tuning\":\"(-2)\"}},{\"code\":\"M(C/)\",\"tType\":\"Metre\",\"components\":[\"C/\"],\"vertical\":false},{\"tType\":\"Chord\",\"duration\":{\"code\":\"Q\",\"tType\":\"Duration\"},\"mainCourses\":[{\"tType\":\"TabNote\",\"pitch\":{\"code\":\"a1\",\"tType\":\"Pitch\",\"fret\":\"a\",\"course\":1}},{\"tType\":\"TabNote\",\"pitch\":{\"code\":\"a2\",\"tType\":\"Pitch\",\"fret\":\"a\",\"course\":2}},{\"tType\":\"TabNote\",\"pitch\":{\"code\":\"b3\",\"tType\":\"Pitch\",\"fret\":\"b\",\"course\":3}},{\"tType\":\"TabNote\",\"pitch\":{\"code\":\"c4\",\"tType\":\"Pitch\",\"fret\":\"c\",\"course\":4}},{\"tType\":\"TabNote\",\"pitch\":{\"code\":\"a6\",\"tType\":\"Pitch\",\"fret\":\"a\",\"course\":6}}],\"bassCourses\":[]},{\"tType\":\"Chord\",\"duration\":{\"code\":\"E.\",\"tType\":\"Duration\"},\"mainCourses\":[{\"tType\":\"TabNote\",\"pitch\":{\"code\":\"c4\",\"tType\":\"Pitch\",\"fret\":\"c\",\"course\":4}}],\"bassCourses\":[]},{\"tType\":\"Chord\",\"duration\":{\"code\":\"T\",\"tType\":\"Duration\"},\"mainCourses\":[{\"tType\":\"TabNote\",\"pitch\":{\"code\":\"d2\",\"tType\":\"Pitch\",\"fret\":\"d\",\"course\":2}}],\"bassCourses\":[]},{\"tType\":\"Chord\",\"duration\":{\"code\":\"T\",\"tType\":\"Duration\"},\"mainCourses\":[{\"tType\":\"TabNote\",\"pitch\":{\"code\":\"b2\",\"tType\":\"Pitch\",\"fret\":\"b\",\"course\":2}}],\"bassCourses\":[]},{\"tType\":\"Chord\",\"duration\":{\"code\":\"E\",\"tType\":\"Duration\"},\"mainCourses\":[{\"tType\":\"TabNote\",\"pitch\":{\"code\":\"a2\",\"tType\":\"Pitch\",\"fret\":\"a\",\"course\":2}},{\"tType\":\"TabNote\",\"pitch\":{\"code\":\"b3\",\"tType\":\"Pitch\",\"fret\":\"b\",\"course\":3}},{\"tType\":\"TabNote\",\"pitch\":{\"code\":\"c4\",\"tType\":\"Pitch\",\"fret\":\"c\",\"course\":4}}],\"bassCourses\":[]},{\"tType\":\"Chord\",\"duration\":{\"code\":\"E\",\"tType\":\"Duration\"},\"mainCourses\":[{\"tType\":\"TabNote\",\"pitch\":{\"code\":\"d3\",\"tType\":\"Pitch\",\"fret\":\"d\",\"course\":3}}],\"bassCourses\":[]},{\"tType\":\"Chord\",\"duration\":{\"code\":\"S\",\"tType\":\"Duration\"},\"mainCourses\":[{\"tType\":\"TabNote\",\"pitch\":{\"code\":\"d1\",\"tType\":\"Pitch\",\"fret\":\"d\",\"course\":1}},{\"tType\":\"TabNote\",\"pitch\":{\"code\":\"a2\",\"tType\":\"Pitch\",\"fret\":\"a\",\"course\":2}}],\"bassCourses\":[]},{\"tType\":\"Chord\",\"duration\":{\"code\":\"S\",\"tType\":\"Duration\"},\"mainCourses\":[{\"tType\":\"TabNote\",\"pitch\":{\"code\":\"b2\",\"tType\":\"Pitch\",\"fret\":\"b\",\"course\":2}}],\"bassCourses\":[]},{\"tType\":\"Chord\",\"duration\":{\"code\":\"S\",\"tType\":\"Duration\"},\"mainCourses\":[{\"tType\":\"TabNote\",\"pitch\":{\"code\":\"a2\",\"tType\":\"Pitch\",\"fret\":\"a\",\"course\":2}}],\"bassCourses\":[]},{\"tType\":\"Chord\",\"duration\":{\"code\":\"S\",\"tType\":\"Duration\"},\"mainCourses\":[{\"tType\":\"TabNote\",\"pitch\":{\"code\":\"d3\",\"tType\":\"Pitch\",\"fret\":\"d\",\"course\":3}}],\"bassCourses\":[]},\n",
    "```"
   ]
  },
  {
   "cell_type": "markdown",
   "id": "f4f36b6a-b1e6-4b56-86a2-5a4f4ef164a3",
   "metadata": {},
   "source": [
    "## CHARM Interface for Tabcode"
   ]
  },
  {
   "cell_type": "code",
   "execution_count": 12,
   "id": "6c3fa9ca-94cd-47e8-8a13-a6f63a3b7f5b",
   "metadata": {},
   "outputs": [
    {
     "data": {
      "text/plain": [
       "false"
      ]
     },
     "execution_count": 12,
     "metadata": {},
     "output_type": "execute_result"
    }
   ],
   "source": [
    "Base.get([1,2],3,false)"
   ]
  },
  {
   "cell_type": "code",
   "execution_count": 13,
   "id": "861934bc-e840-48da-970a-e85a3ae806f9",
   "metadata": {},
   "outputs": [
    {
     "data": {
      "text/plain": [
       "Main.Tabcode"
      ]
     },
     "execution_count": 13,
     "metadata": {},
     "output_type": "execute_result"
    }
   ],
   "source": [
    "module Tabcode\n",
    "\n",
    "using Main.CHARM\n",
    "\n",
    "abstract type Id <: CHARM.Id end\n",
    "\n",
    "abstract type Constituent <: CHARM.Constituent end\n",
    "\n",
    "abstract type Hierarchy <: CHARM.Hierarchy end\n",
    "\n",
    "abstract type Attribute{N,T} <: CHARM.Attribute{N,T} end\n",
    "\n",
    "struct Note <: Constituent\n",
    "    course\n",
    "    fret\n",
    "    dur\n",
    "    chord\n",
    "    bar\n",
    "    system\n",
    "    page\n",
    "end\n",
    "\n",
    "struct Chord <: Constituent\n",
    "    dur\n",
    "    bar\n",
    "    system\n",
    "    page\n",
    "    notes\n",
    "end\n",
    "\n",
    "struct Bar <: Constituent\n",
    "    system\n",
    "    page\n",
    "    chords\n",
    "end\n",
    "\n",
    "struct System <: Constituent\n",
    "    page\n",
    "    bars\n",
    "end\n",
    "\n",
    "struct Page <: Constituent\n",
    "    systems\n",
    "end\n",
    "\n",
    "struct File <: Hierarchy\n",
    "    notes\n",
    "    chords\n",
    "    bars\n",
    "    systems\n",
    "    pages\n",
    "end\n",
    "\n",
    "struct FRET <: Attribute{:FRET,String} end\n",
    "CHARM.__attributes__(::Val{:FRET}) = FRET()\n",
    "\n",
    "struct COURSE <: Attribute{:COURSE,Int} end\n",
    "CHARM.__attributes__(::Val{:COURSE}) = COURSE()\n",
    "\n",
    "struct BAR <: Attribute{:BAR,String} end\n",
    "CHARM.__attributes__(::Val{:BAR}) = BAR()\n",
    "\n",
    "durnos = Dict('B'=>8.0,'W'=>4.0,'H'=>2.0,'Q'=>1.0,'E'=>0.5,'S'=>0.25,'T'=>0.125,'Y'=>0.0625,'Z'=>0.03125)\n",
    "\n",
    "getdurno(s) = begin\n",
    "    x = durnos[s[1]]\n",
    "    length(s)==1 && return x\n",
    "    return x + (x/2)\n",
    "end\n",
    "\n",
    "struct NDUR <: CHARM.Attribute{:NDUR,Float64} end\n",
    "CHARM.__attributes__(::Val{:NDUR}) = NDUR()\n",
    "\n",
    "CHARM.getp(::TYPE,::Note) = \"Note\"\n",
    "CHARM.getp(::TYPE,::Chord) = \"Chord\"\n",
    "CHARM.getp(::TYPE,::Bar) = \"Bar\"\n",
    "CHARM.getp(::TYPE,::System) = \"System\"\n",
    "CHARM.getp(::TYPE,::Page) = \"Page\"\n",
    "\n",
    "CHARM.geta(::FRET,x::Note) = x.fret\n",
    "CHARM.geta(::COURSE,x::Note) = x.course\n",
    "CHARM.geta(::DUR,x::Note) = x.dur\n",
    "CHARM.geta(::DUR,x::Chord) = x.dur\n",
    "CHARM.geta(::NDUR,x::Note) = getdurno(geta(:DUR,x))\n",
    "CHARM.geta(::BAR,x::Chord) = x.bar\n",
    "\n",
    "using JSON\n",
    "\n",
    "function parse(fn)\n",
    "\n",
    "    hasttype(s,g) = haskey(g,\"tType\") && g[\"tType\"] == s\n",
    "\n",
    "    gs = JSON.parsefile(fn)\n",
    "    \n",
    "    notes, chords, bars, systems, pages = [], [], [], [], []\n",
    "    n, c, b, s, p = 1, 1, 1, 1, 1\n",
    "    ns, cs, bs, ss, ps = [], [], [], [], []\n",
    "    \n",
    "    for g in gs\n",
    "        if hasttype(\"Chord\",g)\n",
    "            push!(cs,c)        \n",
    "            \n",
    "            dur = g[\"duration\"][\"code\"]\n",
    "    \n",
    "            for x in g[\"mainCourses\"]\n",
    "                push!(ns,n)\n",
    "                \n",
    "                course = x[\"pitch\"][\"course\"]\n",
    "                fret = x[\"pitch\"][\"fret\"]\n",
    "                \n",
    "                note = Note(course,fret,dur,c,b,s,p)\n",
    "                push!(notes,note)\n",
    "                n+=1\n",
    "            end\n",
    "    \n",
    "            chord = Chord(dur,b,s,p,ns)\n",
    "            push!(chords,chord)\n",
    "            \n",
    "            ns = []\n",
    "            c+=1\n",
    "        end\n",
    "        if hasttype(\"Barline\",g)\n",
    "            push!(bs,b)\n",
    "            bar = Bar(s,p,cs)\n",
    "            push!(bars,bar)\n",
    "            cs = []\n",
    "            b+=1\n",
    "        end\n",
    "        if hasttype(\"SystemBreak\",g)\n",
    "            push!(ss,s)\n",
    "            system = System(p,bs)\n",
    "            push!(systems,system)\n",
    "            bs = []\n",
    "            s+=1\n",
    "        end\n",
    "        if hasttype(\"PageBreak\",g)\n",
    "            push!(ps,p)\n",
    "            page = Page(ss)\n",
    "            push!(pages,page)\n",
    "            ss = []\n",
    "            p+=1\n",
    "        end\n",
    "    end\n",
    "    system = System(p,bs)\n",
    "    push!(systems,system)\n",
    "    push!(ss,s)\n",
    "    page = Page(s)\n",
    "    push!(pages,page)\n",
    "\n",
    "    return File(notes, chords, bars, systems, pages)\n",
    "\n",
    "end\n",
    "\n",
    "end"
   ]
  },
  {
   "cell_type": "code",
   "execution_count": 14,
   "id": "87d89a59-d0e7-4861-87c4-e1dda3177e89",
   "metadata": {},
   "outputs": [],
   "source": [
    "using Main.Tabcode"
   ]
  },
  {
   "cell_type": "markdown",
   "id": "0a738560-64c3-4df8-a0d0-493653f99dd8",
   "metadata": {},
   "source": [
    "## Midi note number interface"
   ]
  },
  {
   "cell_type": "code",
   "execution_count": 16,
   "id": "5ec5a934-a38a-4c8b-9dde-eb32a9dd78ed",
   "metadata": {},
   "outputs": [
    {
     "data": {
      "text/plain": [
       "Main.RenaissancePitch"
      ]
     },
     "execution_count": 16,
     "metadata": {},
     "output_type": "execute_result"
    }
   ],
   "source": [
    "module RenaissancePitch\n",
    "\n",
    "using Main.CHARM\n",
    "using Main.Tabcode\n",
    "\n",
    "courses = [67,62,57,53,48,42]\n",
    "frets = Dict(\"a\"=>2,\"b\"=>4,\"c\"=>5,\"d\"=>7,\"e\"=>9,\"f\"=>10,\"h\"=>11)\n",
    "\n",
    "getmidinote(cs,fs,c,f) = cs[c]+fs[f]\n",
    "\n",
    "CHARM.geta(::PITCH,x::Tabcode.Note) = begin \n",
    "    c = geta(:COURSE,x)\n",
    "    f = geta(:FRET,x)\n",
    "    return getmidinote(courses,frets,c,f)\n",
    "end\n",
    "\n",
    "end"
   ]
  },
  {
   "cell_type": "markdown",
   "id": "1a9e41b8-8b79-4d3a-bd82-09e30282a10e",
   "metadata": {},
   "source": [
    "## Example Representation"
   ]
  },
  {
   "cell_type": "code",
   "execution_count": 18,
   "id": "5125f69f-4194-49d1-8bcd-d99d37fc44dc",
   "metadata": {},
   "outputs": [
    {
     "data": {
      "text/plain": [
       "Main.Example"
      ]
     },
     "execution_count": 18,
     "metadata": {},
     "output_type": "execute_result"
    }
   ],
   "source": [
    "module Example\n",
    "\n",
    "using Main.CHARM\n",
    "using Main.Tabcode\n",
    "using Main.RenaissancePitch\n",
    "\n",
    "abstract type Id <: CHARM.Id end\n",
    "\n",
    "struct Note{n} <: Id end\n",
    "struct Chord{n} <: Id end\n",
    "struct Bar{n} <: Id end\n",
    "struct System{n} <: Id end\n",
    "struct Page{n} <: Id end\n",
    "\n",
    "CHARM.pts(x::Tabcode.Note) = CHARM.Id[]\n",
    "CHARM.pts(x::Tabcode.Chord) = CHARM.Id[Note{x}() for x in x.notes]\n",
    "CHARM.pts(x::Tabcode.Bar) = CHARM.Id[Chord{x}() for x in x.chords]\n",
    "CHARM.pts(x::Tabcode.System) = CHARM.Id[Bar{x}() for x in x.bars]\n",
    "CHARM.pts(x::Tabcode.Page) = CHARM.Id[System{x}() for x in x.systems]\n",
    "\n",
    "CHARM.fnd(x::Note{n},f::Tabcode.File) where n = get(f.notes,n,none)\n",
    "CHARM.fnd(x::Chord{n},f::Tabcode.File) where n = get(f.chords,n,none) \n",
    "CHARM.fnd(x::Bar{n},f::Tabcode.File) where n = get(f.bars,n,none)\n",
    "CHARM.fnd(x::System{n},f::Tabcode.File) where n = get(f.systems,n,none)\n",
    "CHARM.fnd(x::Page{n},f::Tabcode.File) where n = get(f.pages,n,none)\n",
    "\n",
    "CHARM.dom(f::Tabcode.File) = vcat([Page{p}() for p in 1:length(f.pages)],[System{s}() for s in 1:length(f.systems)],[Bar{b}() for b in 1:length(f.bars)],[Chord{c}() for c in 1:length(f.chords)],[Note{n}() for n in 1:length(f.notes)])\n",
    "\n",
    "__data__ = Tabcode.parse(\"output.json\")\n",
    "\n",
    "end"
   ]
  },
  {
   "cell_type": "code",
   "execution_count": 19,
   "id": "06380b51-0d25-4eb8-8b75-22071f98c2ec",
   "metadata": {},
   "outputs": [],
   "source": [
    "using Main.Example"
   ]
  },
  {
   "cell_type": "code",
   "execution_count": 20,
   "id": "4493d79d-d10e-4feb-8ea4-20d6f2a2914b",
   "metadata": {},
   "outputs": [
    {
     "data": {
      "text/plain": [
       "2098-element Vector{Main.Example.Id}:\n",
       " Main.Example.Page{1}()\n",
       " Main.Example.Page{2}()\n",
       " Main.Example.Page{3}()\n",
       " Main.Example.System{1}()\n",
       " Main.Example.System{2}()\n",
       " Main.Example.System{3}()\n",
       " Main.Example.System{4}()\n",
       " Main.Example.System{5}()\n",
       " Main.Example.System{6}()\n",
       " Main.Example.System{7}()\n",
       " Main.Example.System{8}()\n",
       " Main.Example.System{9}()\n",
       " Main.Example.System{10}()\n",
       " ⋮\n",
       " Main.Example.Note{1199}()\n",
       " Main.Example.Note{1200}()\n",
       " Main.Example.Note{1201}()\n",
       " Main.Example.Note{1202}()\n",
       " Main.Example.Note{1203}()\n",
       " Main.Example.Note{1204}()\n",
       " Main.Example.Note{1205}()\n",
       " Main.Example.Note{1206}()\n",
       " Main.Example.Note{1207}()\n",
       " Main.Example.Note{1208}()\n",
       " Main.Example.Note{1209}()\n",
       " Main.Example.Note{1210}()"
      ]
     },
     "execution_count": 20,
     "metadata": {},
     "output_type": "execute_result"
    }
   ],
   "source": [
    "dom(Example)"
   ]
  },
  {
   "cell_type": "code",
   "execution_count": 21,
   "id": "fd2c8d83-9b40-46cd-9458-2b9168293135",
   "metadata": {},
   "outputs": [
    {
     "data": {
      "text/plain": [
       "3-element Vector{Main.CHARM.Id}:\n",
       " Main.Example.Bar{26}()\n",
       " Main.Example.Bar{27}()\n",
       " Main.Example.Bar{28}()"
      ]
     },
     "execution_count": 21,
     "metadata": {},
     "output_type": "execute_result"
    }
   ],
   "source": [
    "fnd(Example.System{10}(),Example) |> pts"
   ]
  },
  {
   "cell_type": "code",
   "execution_count": 22,
   "id": "cd10ba96-26d5-4ec0-b2fd-af7b3407cbe1",
   "metadata": {},
   "outputs": [
    {
     "data": {
      "text/plain": [
       "62"
      ]
     },
     "execution_count": 22,
     "metadata": {},
     "output_type": "execute_result"
    }
   ],
   "source": [
    "fnd(Example.Note{1207}(),Example) |> (n)->geta(:PITCH,n)"
   ]
  },
  {
   "cell_type": "markdown",
   "id": "8f99f32d-2a04-4b18-a1d9-654757b03e19",
   "metadata": {},
   "source": [
    "## Representing the topline"
   ]
  },
  {
   "cell_type": "code",
   "execution_count": 24,
   "id": "61b82d1d-47a4-4437-86c9-423086e41cbc",
   "metadata": {},
   "outputs": [
    {
     "data": {
      "text/plain": [
       "Main.Topline"
      ]
     },
     "execution_count": 24,
     "metadata": {},
     "output_type": "execute_result"
    }
   ],
   "source": [
    "module Topline\n",
    "\n",
    "using Main.CHARM\n",
    "using Main.Tabcode\n",
    "using Main.Example\n",
    "\n",
    "topline = [Example.Note{c.notes[1]}() for c in Example.__data__.chords]\n",
    "\n",
    "export Topline\n",
    "\n",
    "struct Id <: CHARM.Id end\n",
    "struct TL <: CHARM.Constituent end\n",
    "struct Hierarchy <: CHARM.Hierarchy end\n",
    "\n",
    "__data__ = Hierarchy()\n",
    "\n",
    "CHARM.fnd(::Id,::Hierarchy) = TL()\n",
    "CHARM.pts(::TL) = topline\n",
    "\n",
    "CHARM.dom(::Hierarchy) = CHARM.Id[Id()]\n",
    "\n",
    "end"
   ]
  },
  {
   "cell_type": "code",
   "execution_count": 25,
   "id": "d529ecb4-a20d-4728-9e2e-3f14d99ab44d",
   "metadata": {},
   "outputs": [],
   "source": [
    "using Main.Topline"
   ]
  },
  {
   "cell_type": "markdown",
   "id": "79127bd1-79ad-429a-a42e-41f040ebabf4",
   "metadata": {},
   "source": [
    "## Integrating Hierarchies"
   ]
  },
  {
   "cell_type": "code",
   "execution_count": 27,
   "id": "9dc07eb0-8688-49ad-8f04-6c811a5c9cad",
   "metadata": {},
   "outputs": [],
   "source": [
    "module KB\n",
    "\n",
    "using Main.CHARM\n",
    "using Main.Tabcode\n",
    "using Main.Example\n",
    "using Main.Topline\n",
    "\n",
    "struct Data <: CHARM.Hierarchy end\n",
    "__data__ = Data()\n",
    "\n",
    "CHARM.fnd(x::Example.Id,::Data) = fnd(x,Example)\n",
    "CHARM.fnd(x::Topline.Id,::Data) = fnd(x,Topline)\n",
    "CHARM.dom(::Data) = [dom(Topline)...,dom(Example)...]\n",
    "\n",
    "end\n",
    "\n",
    "using Main.KB"
   ]
  },
  {
   "cell_type": "code",
   "execution_count": 28,
   "id": "8395d342-6d73-4643-9720-bdc8e668af52",
   "metadata": {},
   "outputs": [],
   "source": [
    "cs = cts(KB);"
   ]
  },
  {
   "cell_type": "code",
   "execution_count": 29,
   "id": "c042f1f3-bca1-40e7-9286-fab882b0d7f3",
   "metadata": {},
   "outputs": [
    {
     "data": {
      "text/plain": [
       "813-element Vector{Main.Example.Note}:\n",
       " Main.Example.Note{1}()\n",
       " Main.Example.Note{6}()\n",
       " Main.Example.Note{7}()\n",
       " Main.Example.Note{8}()\n",
       " Main.Example.Note{9}()\n",
       " Main.Example.Note{12}()\n",
       " Main.Example.Note{13}()\n",
       " Main.Example.Note{15}()\n",
       " Main.Example.Note{16}()\n",
       " Main.Example.Note{17}()\n",
       " Main.Example.Note{18}()\n",
       " Main.Example.Note{21}()\n",
       " Main.Example.Note{22}()\n",
       " ⋮\n",
       " Main.Example.Note{1196}()\n",
       " Main.Example.Note{1197}()\n",
       " Main.Example.Note{1198}()\n",
       " Main.Example.Note{1199}()\n",
       " Main.Example.Note{1200}()\n",
       " Main.Example.Note{1201}()\n",
       " Main.Example.Note{1202}()\n",
       " Main.Example.Note{1203}()\n",
       " Main.Example.Note{1204}()\n",
       " Main.Example.Note{1205}()\n",
       " Main.Example.Note{1209}()\n",
       " Main.Example.Note{1210}()"
      ]
     },
     "execution_count": 29,
     "metadata": {},
     "output_type": "execute_result"
    }
   ],
   "source": [
    "fnd(Topline.Id(),KB) |> pts "
   ]
  },
  {
   "cell_type": "markdown",
   "id": "f2ef7fb8-caa6-4ba5-ae94-26055694b81c",
   "metadata": {},
   "source": [
    "## Querying the Knowledge Base"
   ]
  },
  {
   "cell_type": "code",
   "execution_count": 31,
   "id": "37b2a445-80f3-49fb-b88e-c1884389b879",
   "metadata": {},
   "outputs": [
    {
     "data": {
      "text/plain": [
       "26-element Vector{Pair{Main.CHARM.Id, Main.CHARM.Constituent}}:\n",
       " Main.Example.Chord{127}() => Main.Tabcode.Chord(\"S\", 10, 4, 1, Any[195, 196])\n",
       " Main.Example.Chord{128}() => Main.Tabcode.Chord(\"T\", 10, 4, 1, Any[197])\n",
       " Main.Example.Chord{129}() => Main.Tabcode.Chord(\"T\", 10, 4, 1, Any[198])\n",
       " Main.Example.Chord{130}() => Main.Tabcode.Chord(\"T\", 10, 4, 1, Any[199])\n",
       " Main.Example.Chord{131}() => Main.Tabcode.Chord(\"T\", 10, 4, 1, Any[200])\n",
       " Main.Example.Chord{132}() => Main.Tabcode.Chord(\"T\", 10, 4, 1, Any[201])\n",
       " Main.Example.Chord{133}() => Main.Tabcode.Chord(\"T\", 10, 4, 1, Any[202])\n",
       " Main.Example.Chord{134}() => Main.Tabcode.Chord(\"S\", 10, 4, 1, Any[203])\n",
       " Main.Example.Chord{135}() => Main.Tabcode.Chord(\"S\", 10, 4, 1, Any[204])\n",
       " Main.Example.Chord{136}() => Main.Tabcode.Chord(\"S\", 10, 4, 1, Any[205])\n",
       " Main.Example.Chord{137}() => Main.Tabcode.Chord(\"S\", 10, 4, 1, Any[206])\n",
       " Main.Example.Chord{138}() => Main.Tabcode.Chord(\"S\", 10, 4, 1, Any[207, 208])\n",
       " Main.Example.Chord{139}() => Main.Tabcode.Chord(\"T\", 10, 4, 1, Any[209])\n",
       " Main.Example.Chord{140}() => Main.Tabcode.Chord(\"T\", 10, 4, 1, Any[210])\n",
       " Main.Example.Chord{141}() => Main.Tabcode.Chord(\"T\", 10, 4, 1, Any[211])\n",
       " Main.Example.Chord{142}() => Main.Tabcode.Chord(\"T\", 10, 4, 1, Any[212])\n",
       " Main.Example.Chord{143}() => Main.Tabcode.Chord(\"T\", 10, 4, 1, Any[213])\n",
       " Main.Example.Chord{144}() => Main.Tabcode.Chord(\"T\", 10, 4, 1, Any[214])\n",
       " Main.Example.Chord{145}() => Main.Tabcode.Chord(\"T\", 10, 4, 1, Any[215, 216])\n",
       " Main.Example.Chord{146}() => Main.Tabcode.Chord(\"T\", 10, 4, 1, Any[217])\n",
       " Main.Example.Chord{147}() => Main.Tabcode.Chord(\"T\", 10, 4, 1, Any[218])\n",
       " Main.Example.Chord{148}() => Main.Tabcode.Chord(\"T\", 10, 4, 1, Any[219])\n",
       " Main.Example.Chord{149}() => Main.Tabcode.Chord(\"T\", 10, 4, 1, Any[220])\n",
       " Main.Example.Chord{150}() => Main.Tabcode.Chord(\"T\", 10, 4, 1, Any[221])\n",
       " Main.Example.Chord{151}() => Main.Tabcode.Chord(\"T\", 10, 4, 1, Any[222])\n",
       " Main.Example.Chord{152}() => Main.Tabcode.Chord(\"T\", 10, 4, 1, Any[223])"
      ]
     },
     "execution_count": 31,
     "metadata": {},
     "output_type": "execute_result"
    }
   ],
   "source": [
    "cs |> SELECT(AND(HASP(:TYPE,\"Chord\"),HASA(:BAR,10)))"
   ]
  },
  {
   "cell_type": "code",
   "execution_count": null,
   "id": "3bf9ae22-59d7-4517-8fe0-44db7b9a2bfc",
   "metadata": {},
   "outputs": [],
   "source": []
  }
 ],
 "metadata": {
  "kernelspec": {
   "display_name": "Julia 1.10.4",
   "language": "julia",
   "name": "julia-1.10"
  },
  "language_info": {
   "file_extension": ".jl",
   "mimetype": "application/julia",
   "name": "julia",
   "version": "1.10.5"
  }
 },
 "nbformat": 4,
 "nbformat_minor": 5
}
