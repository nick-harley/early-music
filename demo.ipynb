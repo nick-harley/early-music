{
 "cells": [
  {
   "cell_type": "markdown",
   "id": "e9e75532-5132-495c-aadd-2dea442a922c",
   "metadata": {},
   "source": [
    "# A Common Hierarchical Abstract Representation of Music: applications in historical musicology\n",
    "\n",
    "Given a more-or-less comprehensive corpus of encoded historical lute tablatures like the augmented ‘Electronic Corpus of Lute Music’ (ECOLM) currently under development, an entirely new mode of investigation of the corpus and its relation to other repertories, such as contemporary vocal or keyboard music, could become possible. Text-based encodings of works may be directly compared using exact matching, but this does not allow recognition of transposed versions, or those for a differently-tuned instrument than a query; furthermore, duple- and triple-time versions of the same music will not, in general, be matched, nor those in which durations have been globally augmented or diminished. While ingenious indexing strategies might overcome some of these problems for a particular repertory of music (for example, the 16th-century lute fantasy and related genres), they are unlikely to permit extra-corpus searches for parallel motives or passages within contemporary vocal music, which have long been recognised as crucial in the evolution of western lute music.  \n",
    "  \n",
    "We present CHARM, an abstract, hierarchical music knowledge representation system that admits federation of data sources in multiple formats by means of semantic-level annotation and query specification. From the user’s perspective, search and discovery operations are specified in terms of musical terminology applied to “constituents” (groups of musical objects – e.g., notes, phrases, motives, etc.), independently of the data source and format. CHARM is equipped with data interfaces for MIDI and TabCode (other formats in progress), and it can represent audio recordings, allowing detailed association of individual notes with specific spectral content, permitting the annotation of richly detailed analyses of sources and their direct, detailed connection with performance recordings.\n",
    "\n",
    "In this notebook we demonstrate how CHARM can be used to construct music knowledge bases from encodings of lute tablature. Using CHARM to construct knowledge bases requires the implementation of interfaces for concrete data sources and engineering the coordination of these interfaces. Here we use the Julia programming language, which has an expressive type system and method overloading, the combination of which is exploited to implement interfaces with type-based dynamic dispatch."
   ]
  },
  {
   "cell_type": "markdown",
   "id": "eb5968af-c350-47f6-bc73-34e7576a11af",
   "metadata": {},
   "source": [
    "## CHARM"
   ]
  },
  {
   "cell_type": "code",
   "execution_count": 3,
   "id": "6a81b4fa-554f-4fc4-ad35-c4eb7e53e87d",
   "metadata": {},
   "outputs": [],
   "source": [
    "module CHARM\n",
    "\n",
    "export option, none, fnd, geta, getp, pts, dom, cts\n",
    "\n",
    "struct None end\n",
    "none = None()\n",
    "option{A} = Union{A,None}\n",
    "\n",
    "# Abstract Types\n",
    "\n",
    "abstract type Id end\n",
    "abstract type Constituent end\n",
    "abstract type Hierarchy end\n",
    "abstract type Attribute{N,T} end\n",
    "abstract type Property{N,T} end\n",
    "\n",
    "# Registered Attributes and Properties \n",
    "\n",
    "__attributes__(::Val{N}) where N = error(\"No attribute named $N.\")\n",
    "__attributes__(N::Symbol) = __attributes__(Val{N}())\n",
    "__properties__(::Val{N}) where N = error(\"No property named $N.\")\n",
    "__properties__(N::Symbol) = __properties__(Val{N}())\n",
    "\n",
    "# Interface Operations\n",
    "\n",
    "fnd(x::Id,h::Hierarchy) = none\n",
    "fnd(x::Id,m::Module) = fnd(x,m.__data__)\n",
    "\n",
    "geta(::Attribute,c::Constituent) = none\n",
    "geta(N::Symbol,c) = geta(__attributes__(Val{N}()),c)\n",
    "\n",
    "getp(::Property,c::Constituent) = none\n",
    "getp(N::Symbol,c) = getp(__properties__(Val{N}()),c)\n",
    "\n",
    "pts(c::Constituent) = Id[]\n",
    "\n",
    "dom(h::Hierarchy) = Id[]\n",
    "dom(m::Module) = dom(m.__data__)\n",
    "\n",
    "#sequence(ids,kb) = [fnd(x,kb) for x in ids]\n",
    "#cts(kb) = sequence(dom(kb),kb)\n",
    "\n",
    "cts(kb) = Pair{Id,Constituent}[x=>fnd(x,kb) for x in dom(kb)]\n",
    "\n",
    "sequence(ids,kb) = begin\n",
    "    isempty(ids) && return Constituent[]\n",
    "    c = fnd(ids[1],kb)\n",
    "    c isa None && return none\n",
    "    r = sequence(ids[2:end],kb)\n",
    "    r isa None && return none\n",
    "    return Constituent[c,r...]\n",
    "end\n",
    "\n",
    "# PROPERTIES\n",
    "\n",
    "export DESCRIPTION, TYPE\n",
    "\n",
    "struct DESCRIPTION <: Property{:DESCRIPTION,String} end\n",
    "__properties__(::Val{:DESCRIPTION}) = DESCRIPTION()\n",
    "\n",
    "struct TYPE <: Property{:TYPE,String} end\n",
    "__properties__(::Val{:TYPE}) = TYPE()\n",
    "\n",
    "# ATTRIBUTES\n",
    "\n",
    "export PITCH, DUR\n",
    "\n",
    "struct PITCH <: Attribute{:PITCH,Int} end\n",
    "__attributes__(::Val{:PITCH}) = PITCH()\n",
    "\n",
    "struct DUR <: Attribute{:DUR,String} end\n",
    "__attributes__(::Val{:DUR}) = DUR()\n",
    "\n",
    "end\n",
    "\n",
    "using Main.CHARM"
   ]
  },
  {
   "cell_type": "markdown",
   "id": "75ea153b-0fbe-484c-8f94-4a135c2943e0",
   "metadata": {
    "jp-MarkdownHeadingCollapsed": true
   },
   "source": [
    "### CHARM Query Language"
   ]
  },
  {
   "cell_type": "code",
   "execution_count": 5,
   "id": "8fb52d83-0165-4a23-9b50-b79a0ea42a1e",
   "metadata": {},
   "outputs": [],
   "source": [
    "PAIR(X,Y) = Pair{x,y} where {x<:X,y<:Y}\n",
    "LST(X) = Vector{x} where {x<:X}\n",
    "OPT(X) = Union{X,CHARM.None}\n",
    "ID = CHARM.Id\n",
    "C = CHARM.Constituent\n",
    "CON = PAIR(ID,C)\n",
    "G = LST(CON)\n",
    "\n",
    "domain(cs::G) = first.(cs)\n",
    "\n",
    "mem(x::ID,cs::G)::Bool = x in domain(cs)\n",
    "mem(xs::LST(ID),cs::G) = all([mem(x,cs) for x in xs])\n",
    "\n",
    "position(x::ID,cs::G) = findfirst(==(x),domain(cs))\n",
    "\n",
    "lookup(x::ID,cs::G) = mem(x,cs) ? cs[position(x,cs)] : none\n",
    "\n",
    "lookup(xs::LST(ID),cs::G)::option{CON} = begin\n",
    "    res = Pair{CHARM.Id,CHARM.Constituent}[]\n",
    "    for x in xs\n",
    "        c = lookup(x,cs)\n",
    "        c == none && return none\n",
    "        union!(res,[c])\n",
    "    end\n",
    "    return res\n",
    "end\n",
    "\n",
    "pop(x::ID,cs::G) = begin \n",
    "    !mem(x,cs) && return CON[]\n",
    "    return cs[position(x,cs):end]\n",
    "end\n",
    "\n",
    "parts(x::ID,cs::G) = begin \n",
    "    !mem(x,cs) && return none\n",
    "    c = lookup(x,cs)\n",
    "    return lookup(pts(c[2]),cs)\n",
    "end\n",
    "parts(c::CON,cs::G) = lookup(pts(c[2]),cs)\n",
    "\n",
    "subparts(x::ID,cs::G) = begin\n",
    "    isempty(cs) && return CON[]\n",
    "    c = lookup(x,cs)\n",
    "    c == none && return CON[]\n",
    "    res = CON[c]\n",
    "    ps = pts(c[2])\n",
    "    for p in ps\n",
    "        union!(res,subparts(p,pop(p,cs)))\n",
    "    end\n",
    "    return res\n",
    "end\n",
    "\n",
    "subparts(xs::LST(ID),cs::G) = begin\n",
    "    res = CON[]\n",
    "    [union!(res,subparts(x,cs)) for x in xs]\n",
    "    return [c for c in cs if c in res]\n",
    "end\n",
    "\n",
    "superparts(x::ID,cs::G) = begin\n",
    "    isempty(cs) && return CON[]\n",
    "    c = lookup(x,cs)\n",
    "    c == none && return CON[]\n",
    "    res = CON[c]\n",
    "    for c2 in reverse(cs[1:position(x,cs)])\n",
    "        if x in pts(c2[2])\n",
    "            push!(res,c2)\n",
    "            union!(res,superparts(c2[1],cs))\n",
    "        end\n",
    "    end\n",
    "    return reverse(res)\n",
    "end\n",
    "\n",
    "superparts(xs::LST(ID),cs::G) = begin \n",
    "    res = CON[]\n",
    "    [union!(res,superparts(x,cs)) for x in xs]\n",
    "    return [c for c in cs if c in res]\n",
    "end\n",
    "\n",
    "haspart(x::ID,y::ID,cs::G) = begin\n",
    "    !(mem(x,cs)) && return false\n",
    "    return y in first.(parts(x,cs))\n",
    "end\n",
    "\n",
    "ispartof(x::ID,y::ID,cs::G) = haspart(y,x,cs)\n",
    "\n",
    "hassubpart(x,y,cs) = begin\n",
    "    y in first.(subparts(x,cs))\n",
    "end\n",
    "\n",
    "issubpartof(x::ID,y::ID,cs::G) = hassubpart(y,x,cs)\n",
    "\n",
    "isdag(cs::G) = begin \n",
    "    isempty(cs) && return true\n",
    "    x,c = cs[1]\n",
    "    t = cs[2:end]\n",
    "    ps = pts(c)\n",
    "    mem(x,t) && (print(\"!!!\"); return false)\n",
    "    !mem(ps,t) && (print(\"!!!$x\"); return false)\n",
    "    !isdag(t) && (print(\"!!!\"); return false)\n",
    "    return true\n",
    "end\n",
    "isleaf(x::ID,cs::G) = begin \n",
    "    c = lookup(x,cs) \n",
    "    return c != none && isempty(pts(c[2]))\n",
    "end\n",
    "istree(cs::G) = begin\n",
    "    isempty(cs) && return true\n",
    "    x,c = cs[1]\n",
    "    t = cs[2:end]\n",
    "    sps = [subparts(p[1],cs) for p in parts(x,cs)]\n",
    "    for p in parts(x)\n",
    "        return isleaf(p,cs) || istree(p,cs)\n",
    "    end\n",
    "end\n",
    "\n",
    "PTY{N,T} = CHARM.Property{N,t} where {t<:T}\n",
    "ATT{N,T} = CHARM.Attribute{N,t} where {t<:T}\n",
    "\n",
    "# READ(A) : G -> option A x G \n",
    "\n",
    "abstract type READ{A} end\n",
    "\n",
    "(R::READ{A})(cs::G) where A = R.op(cs)::option{A}\n",
    "\n",
    "struct Read{A} <: READ{A}\n",
    "    op::Function\n",
    "    Read(A,f) = new{A}(f)\n",
    "    Read(A) = new{A}(cs->none)\n",
    "end\n",
    "\n",
    "abstract type KLEISLI{A,B} end\n",
    "\n",
    "function (K::KLEISLI{A,B})(a) where {A,B}\n",
    "    a==none && return Read(B)\n",
    "    Read(B,K.op(a))\n",
    "end\n",
    "\n",
    "function(K::KLEISLI{A,B})(a::A,cs::G) where {A,B}\n",
    "    K(a)(cs)\n",
    "end\n",
    "\n",
    "struct BIND{A,B} <: READ{B}\n",
    "    op\n",
    "    BIND(R::READ{A},F::KLEISLI{A,B}) where {A,B} = new{A,B}(cs->F(R(cs),cs))\n",
    "end\n",
    "\n",
    "struct COMP{A,B} <: KLEISLI{A,B}\n",
    "    op\n",
    "    COMP(F::KLEISLI{A,B},G::KLEISLI{B,C}) where {A,B,C} = new{A,C}(x->cs->G(F(x,cs),cs))\n",
    "end\n",
    "\n",
    "COMP(f::KLEISLI,gs::KLEISLI...) = isempty(gs) ? f : COMP(f,COMP(gs...))\n",
    "\n",
    "QUERY(R::READ,KS::KLEISLI...) = BIND(R,COMP(KS...))\n",
    "\n",
    "struct PTS <: KLEISLI{CON,LST(CON)}\n",
    "    op\n",
    "    PTS() = new(c->cs->parts(c,cs))\n",
    "end\n",
    "\n",
    "struct GETA{N,T} <: KLEISLI{CON,T}\n",
    "    op\n",
    "    GETA(a::ATT{N,T}) where {N,T} = new{N,T}(c->cs->geta(a,c[2]))\n",
    "    GETA(N::Symbol) = GETA(CHARM.__attributes__(N))\n",
    "end\n",
    "\n",
    "struct GETP{N,T} <: KLEISLI{CON,T}\n",
    "    op\n",
    "    GETP(a::PTY{N,T}) where {N,T} = new{N,T}(c->cs->getp(a,c[2]))\n",
    "    GETP(N::Symbol) = GETP(CHARM.__properties__(N))\n",
    "end\n",
    "\n",
    "struct HASA <: KLEISLI{CON,Bool}\n",
    "    op\n",
    "    HASA(N::Symbol,v) = new(c->cs->geta(N,c[2])==v)\n",
    "    HASA(N::Symbol) = new(c->cs->geta(N,c[2])!=none)\n",
    "end\n",
    "\n",
    "struct HASP <: KLEISLI{CON,Bool}\n",
    "    op\n",
    "    HASP(N::Symbol,v) = new(c->cs->getp(N,c[2])==v)\n",
    "    HASP(N::Symbol) = new(c->cs->getp(N,c[2])!=none)\n",
    "end\n",
    "\n",
    "struct FIRSTPART <: KLEISLI{CON,Bool}\n",
    "    op\n",
    "    FIRSTPART(T::KLEISLI) = new(c->cs->(ps = parts(c,cs); isempty(ps) ? false : T(first(ps))(cs)))\n",
    "    FIRSTPART(x::ID) = FIRSTPART(c->cs->c[1]==x)\n",
    "end\n",
    "\n",
    "struct LASTPART <: KLEISLI{CON,Bool}\n",
    "    op\n",
    "    LASTPART(T) = new(c->cs->(ps = parts(c,cs); isempty(ps) ? false : T(last(ps))(cs)))\n",
    "    LASTPART(x::ID) = LASTPART(c->cs->c[1]==x)\n",
    "end\n",
    "\n",
    "struct ALLPARTS <: KLEISLI{CON,Bool}\n",
    "    op\n",
    "    ALLPARTS(T) = new(c->cs->all([T(p,cs) for p in parts(c,cs)])) \n",
    "end\n",
    "\n",
    "struct SOMEPART <: KLEISLI{CON,Bool}\n",
    "    op\n",
    "    SOMEPART(T) = new(c->cs->any([T(p,cs) for p in parts(c,cs)]))\n",
    "end\n",
    "\n",
    "struct AND <: KLEISLI{CON,Bool}\n",
    "    op\n",
    "    AND(f::KLEISLI,g::KLEISLI) = new(a->cs->f(a,cs)&&g(a,cs))\n",
    "    AND(f::KLEISLI,gs::KLEISLI...) = isempty(gs) ? f : AND(AND(f,gs[1]),gs[2:end]...)\n",
    "end\n",
    "\n",
    "struct SELECT <: READ{G}\n",
    "    op\n",
    "    SELECT(T::KLEISLI{CON,Bool}) = new(cs->[c for c in cs if T(c)(cs)])\n",
    "    SELECT(x) = new(cs->[lookup(x,cs)])\n",
    "end\n",
    "\n",
    "opmap(B,f,l) = begin\n",
    "    isempty(l) && return B[]\n",
    "    h = f(l[1])\n",
    "    t = opmap(B,f,l[2:end])\n",
    "    h == none && return none\n",
    "    t == none && return none\n",
    "    return B[h,t...]\n",
    "end\n",
    "\n",
    "struct MAP{A,B} <: KLEISLI{LST(A),LST(B)}\n",
    "    op\n",
    "    MAP(f::KLEISLI{A,B}) where {A,B} = new{A,B}(l->cs->opmap(B,x->f(x)(cs),l))\n",
    "end\n",
    "\n",
    "struct RET{A} <: READ{A}\n",
    "    op\n",
    "    RET(v::A) where A = new{A}(_->v)\n",
    "end\n",
    "\n",
    "struct SUBCS <: KLEISLI{CON,G}\n",
    "    op\n",
    "    SUBCS() = new(c->cs->subparts(c,cs))\n",
    "end\n",
    "\n",
    "struct PROJ <: KLEISLI{CON,G}\n",
    "    op\n",
    "    PROJ(T::KLEISLI{CON,Bool}) = new(c->cs->CON[x for x in subparts(c[1],cs) if T(x,cs)])\n",
    "end\n",
    "\n",
    "struct SUM <: KLEISLI{LST(Float64),Float64}\n",
    "    op\n",
    "    SUM() = new(l->cs->sum(l))\n",
    "end\n",
    "\n",
    "struct AVG <: KLEISLI{LST(Float64),Float64}\n",
    "    op\n",
    "    AVG() = new(l->cs->sum(l)/length(l))\n",
    "end"
   ]
  },
  {
   "cell_type": "markdown",
   "id": "42c601b2-25db-4ede-8979-1a44abe6f1cd",
   "metadata": {
    "jp-MarkdownHeadingCollapsed": true
   },
   "source": [
    "## Tabcode Example"
   ]
  },
  {
   "cell_type": "markdown",
   "id": "5f1ce79d-d267-419c-b4d8-3a6990f8cae5",
   "metadata": {},
   "source": [
    "```\n",
    "{<rules>\n",
    "<tuning_named>renaissance</tuning_named>\n",
    "<pitch>67</pitch>\n",
    " <rhythm-font>varietie</rhythm-font>\n",
    "<bass_tuning>(-2)</bass_tuning>\n",
    "</rules>}\n",
    "M(C/)\n",
    "Qa1a2b3c4a6\n",
    "E.c4\n",
    "Td2\n",
    "b2\n",
    "Ea2b3c4\n",
    "d3\n",
    "Sd1a2\n",
    "b2\n",
    "a2\n",
    "d3\n",
    "|\n",
    "Sa1b3d5\n",
    "d3\n",
    "b3\n",
    "a3\n",
    "c4d5\n",
    "a3\n",
    "b3\n",
    "d3\n",
    "e2a3c5\n",
    "c2\n",
    "a2\n",
    "c2\n",
    "e2a3c5\n",
    "a1\n",
    "c1\n",
    "e2\n",
    "|\n",
    "```"
   ]
  },
  {
   "cell_type": "markdown",
   "id": "e1423e88-acbc-43ab-9e65-c66c258d7310",
   "metadata": {
    "jp-MarkdownHeadingCollapsed": true
   },
   "source": [
    "## Parse to JSON with Parsetab"
   ]
  },
  {
   "cell_type": "markdown",
   "id": "a33a1897-c332-4273-8f1f-4d370142a7e7",
   "metadata": {},
   "source": [
    "Install parsetab: https://github.com/jamieforth/parsetab\n",
    "\n",
    "Convert tabcode `input.tc` to json.\n",
    "\n",
    "```\n",
    "parsetab tc2json input.tc\n",
    "```"
   ]
  },
  {
   "cell_type": "markdown",
   "id": "eaff5633-4cac-4334-946c-de05937fca96",
   "metadata": {},
   "source": [
    "```json\n",
    "[{\"code\":\"{<rules>\\n<tuning_named>renaissance</tuning_named>\\n<pitch>67</pitch>\\n <rhythm-font>varietie</rhythm-font>\\n<bass_tuning>(-2)</bass_tuning>\\n</rules>}\",\"fType\":\"Ruleset\",\"rules\":{\"notation\":\"French\",\"pitch\":67,\"tuning_named\":\"renaissance\",\"rhythm-font\":\"varietie\",\"bass_tuning\":\"(-2)\"}},{\"code\":\"M(C/)\",\"tType\":\"Metre\",\"components\":[\"C/\"],\"vertical\":false},{\"tType\":\"Chord\",\"duration\":{\"code\":\"Q\",\"tType\":\"Duration\"},\"mainCourses\":[{\"tType\":\"TabNote\",\"pitch\":{\"code\":\"a1\",\"tType\":\"Pitch\",\"fret\":\"a\",\"course\":1}},{\"tType\":\"TabNote\",\"pitch\":{\"code\":\"a2\",\"tType\":\"Pitch\",\"fret\":\"a\",\"course\":2}},{\"tType\":\"TabNote\",\"pitch\":{\"code\":\"b3\",\"tType\":\"Pitch\",\"fret\":\"b\",\"course\":3}},{\"tType\":\"TabNote\",\"pitch\":{\"code\":\"c4\",\"tType\":\"Pitch\",\"fret\":\"c\",\"course\":4}},{\"tType\":\"TabNote\",\"pitch\":{\"code\":\"a6\",\"tType\":\"Pitch\",\"fret\":\"a\",\"course\":6}}],\"bassCourses\":[]},{\"tType\":\"Chord\",\"duration\":{\"code\":\"E.\",\"tType\":\"Duration\"},\"mainCourses\":[{\"tType\":\"TabNote\",\"pitch\":{\"code\":\"c4\",\"tType\":\"Pitch\",\"fret\":\"c\",\"course\":4}}],\"bassCourses\":[]},{\"tType\":\"Chord\",\"duration\":{\"code\":\"T\",\"tType\":\"Duration\"},\"mainCourses\":[{\"tType\":\"TabNote\",\"pitch\":{\"code\":\"d2\",\"tType\":\"Pitch\",\"fret\":\"d\",\"course\":2}}],\"bassCourses\":[]},{\"tType\":\"Chord\",\"duration\":{\"code\":\"T\",\"tType\":\"Duration\"},\"mainCourses\":[{\"tType\":\"TabNote\",\"pitch\":{\"code\":\"b2\",\"tType\":\"Pitch\",\"fret\":\"b\",\"course\":2}}],\"bassCourses\":[]},{\"tType\":\"Chord\",\"duration\":{\"code\":\"E\",\"tType\":\"Duration\"},\"mainCourses\":[{\"tType\":\"TabNote\",\"pitch\":{\"code\":\"a2\",\"tType\":\"Pitch\",\"fret\":\"a\",\"course\":2}},{\"tType\":\"TabNote\",\"pitch\":{\"code\":\"b3\",\"tType\":\"Pitch\",\"fret\":\"b\",\"course\":3}},{\"tType\":\"TabNote\",\"pitch\":{\"code\":\"c4\",\"tType\":\"Pitch\",\"fret\":\"c\",\"course\":4}}],\"bassCourses\":[]},{\"tType\":\"Chord\",\"duration\":{\"code\":\"E\",\"tType\":\"Duration\"},\"mainCourses\":[{\"tType\":\"TabNote\",\"pitch\":{\"code\":\"d3\",\"tType\":\"Pitch\",\"fret\":\"d\",\"course\":3}}],\"bassCourses\":[]},{\"tType\":\"Chord\",\"duration\":{\"code\":\"S\",\"tType\":\"Duration\"},\"mainCourses\":[{\"tType\":\"TabNote\",\"pitch\":{\"code\":\"d1\",\"tType\":\"Pitch\",\"fret\":\"d\",\"course\":1}},{\"tType\":\"TabNote\",\"pitch\":{\"code\":\"a2\",\"tType\":\"Pitch\",\"fret\":\"a\",\"course\":2}}],\"bassCourses\":[]},{\"tType\":\"Chord\",\"duration\":{\"code\":\"S\",\"tType\":\"Duration\"},\"mainCourses\":[{\"tType\":\"TabNote\",\"pitch\":{\"code\":\"b2\",\"tType\":\"Pitch\",\"fret\":\"b\",\"course\":2}}],\"bassCourses\":[]},{\"tType\":\"Chord\",\"duration\":{\"code\":\"S\",\"tType\":\"Duration\"},\"mainCourses\":[{\"tType\":\"TabNote\",\"pitch\":{\"code\":\"a2\",\"tType\":\"Pitch\",\"fret\":\"a\",\"course\":2}}],\"bassCourses\":[]},{\"tType\":\"Chord\",\"duration\":{\"code\":\"S\",\"tType\":\"Duration\"},\"mainCourses\":[{\"tType\":\"TabNote\",\"pitch\":{\"code\":\"d3\",\"tType\":\"Pitch\",\"fret\":\"d\",\"course\":3}}],\"bassCourses\":[]},\n",
    "```"
   ]
  },
  {
   "cell_type": "markdown",
   "id": "f4f36b6a-b1e6-4b56-86a2-5a4f4ef164a3",
   "metadata": {},
   "source": [
    "## CHARM Interface for Tabcode"
   ]
  },
  {
   "cell_type": "code",
   "execution_count": 12,
   "id": "861934bc-e840-48da-970a-e85a3ae806f9",
   "metadata": {},
   "outputs": [],
   "source": [
    "module Tabcode\n",
    "\n",
    "using Main.CHARM, JSON\n",
    "\n",
    "function parse(fn)\n",
    "\n",
    "    hasttype(s,g) = haskey(g,\"tType\") && g[\"tType\"] == s\n",
    "\n",
    "    gs = JSON.parsefile(fn)\n",
    "    \n",
    "    notes, chords, bars, systems, pages = [], [], [], [], []\n",
    "    n, c, b, s, p = 1, 1, 1, 1, 1\n",
    "    ns, cs, bs, ss, ps = [], [], [], [], []\n",
    "    \n",
    "    for g in gs\n",
    "        if hasttype(\"Chord\",g)\n",
    "            push!(cs,c)        \n",
    "            \n",
    "            dur = g[\"duration\"][\"code\"]\n",
    "    \n",
    "            for x in g[\"mainCourses\"]\n",
    "                push!(ns,n)\n",
    "                \n",
    "                course = x[\"pitch\"][\"course\"]\n",
    "                fret = x[\"pitch\"][\"fret\"]\n",
    "                \n",
    "                note = (id=n,course=course,fret=fret,dur=dur,c=c,b=b,s=s,p=p)\n",
    "                push!(notes,note)\n",
    "                n+=1\n",
    "            end\n",
    "    \n",
    "            chord = (id=c,dur=dur,b=b,s=s,p=p,notes=ns)\n",
    "            push!(chords,chord)\n",
    "            \n",
    "            ns = []\n",
    "            c+=1\n",
    "        end\n",
    "        if hasttype(\"Barline\",g)\n",
    "            push!(bs,b)\n",
    "            bar = (id=b,s=s,p=p,chords=cs)\n",
    "            push!(bars,bar)\n",
    "            cs = []\n",
    "            b+=1\n",
    "        end\n",
    "        if hasttype(\"SystemBreak\",g)\n",
    "            push!(ss,s)\n",
    "            system = (id=s,p=p,bars=bs)\n",
    "            push!(systems,system)\n",
    "            bs = []\n",
    "            s+=1\n",
    "        end\n",
    "        if hasttype(\"PageBreak\",g)\n",
    "            push!(ps,p)\n",
    "            page = (id=p,systems=ss)\n",
    "            push!(pages,page)\n",
    "            ss = []\n",
    "            p+=1\n",
    "        end\n",
    "    end\n",
    "    system = (id=s,p=p,bars=bs)\n",
    "    push!(systems,system)\n",
    "    push!(ss,s)\n",
    "    page = (id=p,systems=ss)\n",
    "    push!(pages,page)\n",
    "\n",
    "    return notes, chords, bars, systems, pages\n",
    "\n",
    "end\n",
    "\n",
    "\n",
    "abstract type Id <: CHARM.Id end\n",
    "abstract type Constituent <: CHARM.Constituent end\n",
    "abstract type Hierarchy <: CHARM.Hierarchy end\n",
    "\n",
    "struct Note{n} <: Id end\n",
    "struct Chord{n} <: Id end\n",
    "struct Bar{n} <: Id end\n",
    "struct System{n} <: Id end\n",
    "struct Page{n} <: Id end\n",
    "\n",
    "struct Con{T} <: Constituent end\n",
    "\n",
    "struct File <: Hierarchy \n",
    "    notes\n",
    "    chords\n",
    "    bars\n",
    "    systems\n",
    "    pages\n",
    "    File() = new([],[],[],[],[])\n",
    "    File(fn) = new(parse(fn)...)\n",
    "end \n",
    "\n",
    "abstract type Attribute{N,T} <: CHARM.Attribute{N,T} end\n",
    "\n",
    "struct FRET <: Attribute{:FRET,String} end\n",
    "CHARM.__attributes__(::Val{:FRET}) = FRET()\n",
    "\n",
    "struct COURSE <: Attribute{:COURSE,Int} end\n",
    "CHARM.__attributes__(::Val{:COURSE}) = COURSE()\n",
    "\n",
    "struct BAR <: Attribute{:BAR,String} end\n",
    "CHARM.__attributes__(::Val{:BAR}) = BAR()\n",
    "\n",
    "CHARM.fnd(x::Note{n},f::File) where n = n > length(f.notes) ? none : Con{Note{n}}()\n",
    "CHARM.fnd(x::Chord{n},f::File) where n = n > length(f.chords) ? none : Con{Chord{n}}()\n",
    "CHARM.fnd(x::Bar{n},f::File) where n = n > length(f.bars) ? none : Con{Bar{n}}()\n",
    "CHARM.fnd(x::System{n},f::File) where n = n > length(f.systems) ? none : Con{System{n}}()\n",
    "CHARM.fnd(x::Page{n},f::File) where n = n > length(f.pages) ? none : Con{Page{n}}()\n",
    "\n",
    "CHARM.pts(::Con{Note{n}}) where n = Id[]\n",
    "CHARM.pts(::Con{Chord{n}}) where n = Id[Note{x}() for x in chords[n].notes]\n",
    "CHARM.pts(::Con{Bar{n}}) where n = Id[Chord{x}() for x in bars[n].chords]\n",
    "CHARM.pts(::Con{System{n}}) where n = Id[Bar{x}() for x in systems[n].bars]\n",
    "CHARM.pts(::Con{Page{n}}) where n = Id[System{x}() for x in pages[n].systems]\n",
    "\n",
    "CHARM.dom(f::File) = vcat(Id[Page{p}() for p in 1:length(f.pages)],Id[System{s}() for s in 1:length(f.systems)],Id[Bar{b}() for b in 1:length(f.bars)],Id[Chord{c}() for c in 1:length(f.chords)],Id[Note{n}() for n in 1:length(f.notes)])\n",
    "\n",
    "CHARM.getp(::TYPE,::Con{Note{n}}) where n = \"Note\"\n",
    "CHARM.getp(::TYPE,::Con{Chord{n}}) where n = \"Chord\"\n",
    "CHARM.getp(::TYPE,::Con{Bar{n}}) where n = \"Bar\"\n",
    "CHARM.getp(::TYPE,::Con{System{n}}) where n = \"System\"\n",
    "CHARM.getp(::TYPE,::Con{Page{n}}) where n = \"Page\"\n",
    "\n",
    "CHARM.geta(::FRET,::Con{Note{n}}) where n = notes[n].fret\n",
    "CHARM.geta(::COURSE,::Con{Note{n}}) where n = notes[n].course\n",
    "CHARM.geta(::DUR,::Con{Note{n}}) where n = notes[n].dur\n",
    "CHARM.geta(::DUR,::Con{Chord{n}}) where n = chords[n].dur\n",
    "\n",
    "CHARM.geta(::BAR,::Con{Note{n}}) where n = notes[n].b\n",
    "CHARM.geta(::BAR,::Con{Chord{n}}) where n = chords[n].b\n",
    "\n",
    "end\n",
    "\n",
    "using Main.Tabcode"
   ]
  },
  {
   "cell_type": "markdown",
   "id": "0a738560-64c3-4df8-a0d0-493653f99dd8",
   "metadata": {},
   "source": [
    "## Midi note number interface"
   ]
  },
  {
   "cell_type": "code",
   "execution_count": 14,
   "id": "5ec5a934-a38a-4c8b-9dde-eb32a9dd78ed",
   "metadata": {},
   "outputs": [
    {
     "data": {
      "text/plain": [
       "Main.RenaissancePitch"
      ]
     },
     "execution_count": 14,
     "metadata": {},
     "output_type": "execute_result"
    }
   ],
   "source": [
    "module RenaissancePitch\n",
    "\n",
    "using Main.CHARM\n",
    "using Main.Tabcode\n",
    "\n",
    "course = [67,62,57,53,48,42]\n",
    "frets = Dict(\"a\"=>2,\"b\"=>4,\"c\"=>5,\"d\"=>7,\"e\"=>9,\"f\"=>10,\"h\"=>11)\n",
    "\n",
    "getmidinote(cs,fs,c,f) = cs[c]+fs[f]\n",
    "\n",
    "CHARM.geta(::PITCH,x::Tabcode.Con{Tabcode.Note{n}}) where n = begin \n",
    "    c = geta(:COURSE,x)\n",
    "    f = geta(:FRET,x)\n",
    "    return getmidinote(courses,frets,c,f)\n",
    "end\n",
    "\n",
    "end"
   ]
  },
  {
   "cell_type": "markdown",
   "id": "1a9e41b8-8b79-4d3a-bd82-09e30282a10e",
   "metadata": {},
   "source": [
    "## Example Representation"
   ]
  },
  {
   "cell_type": "code",
   "execution_count": 16,
   "id": "5125f69f-4194-49d1-8bcd-d99d37fc44dc",
   "metadata": {},
   "outputs": [
    {
     "data": {
      "text/plain": [
       "Main.Example"
      ]
     },
     "execution_count": 16,
     "metadata": {},
     "output_type": "execute_result"
    }
   ],
   "source": [
    "module Example\n",
    "\n",
    "using Main.CHARM, Main.Tabcode, Main.RenaissancePitch\n",
    "\n",
    "__data__ = Tabcode.File(\"output.json\")\n",
    "\n",
    "end"
   ]
  },
  {
   "cell_type": "markdown",
   "id": "8f99f32d-2a04-4b18-a1d9-654757b03e19",
   "metadata": {},
   "source": [
    "## Representing the topline"
   ]
  },
  {
   "cell_type": "code",
   "execution_count": 18,
   "id": "61b82d1d-47a4-4437-86c9-423086e41cbc",
   "metadata": {},
   "outputs": [
    {
     "data": {
      "text/plain": [
       "Main.Topline"
      ]
     },
     "execution_count": 18,
     "metadata": {},
     "output_type": "execute_result"
    }
   ],
   "source": [
    "module Topline\n",
    "\n",
    "using Main.CHARM, Main.Tabcode, Main.Example\n",
    "\n",
    "topline = [Tabcode.Note{c.notes[1]}() for c in Example.__data__.chords]\n",
    "\n",
    "export Topline\n",
    "\n",
    "struct Id <: CHARM.Id end\n",
    "struct Con{T} <: CHARM.Constituent \n",
    "    Con() = new{Topline}()\n",
    "end\n",
    "struct Hierarchy <: CHARM.Hierarchy end\n",
    "\n",
    "__data__ = Hierarchy()\n",
    "\n",
    "CHARM.fnd(::Id,::Hierarchy) = Con()\n",
    "CHARM.pts(::Con{Id}) = topline\n",
    "\n",
    "CHARM.dom(::Hierarchy) = CHARM.Id[Id()]\n",
    "\n",
    "end"
   ]
  },
  {
   "cell_type": "markdown",
   "id": "79127bd1-79ad-429a-a42e-41f040ebabf4",
   "metadata": {},
   "source": [
    "## Integrating Hierarchies"
   ]
  },
  {
   "cell_type": "code",
   "execution_count": 20,
   "id": "9dc07eb0-8688-49ad-8f04-6c811a5c9cad",
   "metadata": {},
   "outputs": [],
   "source": [
    "module KB\n",
    "\n",
    "using Main.CHARM\n",
    "using Main.Tabcode\n",
    "using Main.Example\n",
    "using Main.Topline\n",
    "\n",
    "struct Data <: CHARM.Hierarchy end\n",
    "__data__ = Data()\n",
    "\n",
    "CHARM.fnd(x::Tabcode.Id,::Data) = fnd(x,Example)\n",
    "CHARM.fnd(x::Topline.Id,::Data) = fnd(x,Topline)\n",
    "CHARM.dom(::Data) = [dom(Topline)...,dom(Example)...]\n",
    "\n",
    "end\n",
    "\n",
    "using Main.KB"
   ]
  },
  {
   "cell_type": "code",
   "execution_count": 21,
   "id": "8395d342-6d73-4643-9720-bdc8e668af52",
   "metadata": {},
   "outputs": [],
   "source": [
    "cs = cts(KB);"
   ]
  },
  {
   "cell_type": "code",
   "execution_count": 22,
   "id": "c042f1f3-bca1-40e7-9286-fab882b0d7f3",
   "metadata": {},
   "outputs": [
    {
     "data": {
      "text/plain": [
       "Main.CHARM.Id[]"
      ]
     },
     "execution_count": 22,
     "metadata": {},
     "output_type": "execute_result"
    }
   ],
   "source": [
    "fnd(Topline.Id(),KB) |> pts "
   ]
  },
  {
   "cell_type": "code",
   "execution_count": 23,
   "id": "fa2082c4-550c-4561-a7f5-6f5377c11bdd",
   "metadata": {},
   "outputs": [
    {
     "ename": "LoadError",
     "evalue": "MethodError: objects of type Module are not callable",
     "output_type": "error",
     "traceback": [
      "MethodError: objects of type Module are not callable",
      "",
      "Stacktrace:",
      " [1] top-level scope",
      "   @ In[23]:1"
     ]
    }
   ],
   "source": [
    "notes = CHARM.sequence(pts(fnd(Topline(),KB)),KB)\n",
    "unique([geta(:DUR,n) for n in notes])"
   ]
  },
  {
   "cell_type": "code",
   "execution_count": 24,
   "id": "6cd619a5-f67e-456e-84bd-73429102a442",
   "metadata": {},
   "outputs": [
    {
     "ename": "LoadError",
     "evalue": "UndefVarError: `notes` not defined",
     "output_type": "error",
     "traceback": [
      "UndefVarError: `notes` not defined",
      "",
      "Stacktrace:",
      " [1] top-level scope",
      "   @ In[24]:1"
     ]
    }
   ],
   "source": [
    "ds = unique([geta(:DUR,n) for n in notes])"
   ]
  },
  {
   "cell_type": "code",
   "execution_count": 25,
   "id": "56841eaf-622e-4fdb-97f3-8a04817783f9",
   "metadata": {},
   "outputs": [
    {
     "ename": "LoadError",
     "evalue": "UndefVarError: `ds` not defined",
     "output_type": "error",
     "traceback": [
      "UndefVarError: `ds` not defined",
      "",
      "Stacktrace:",
      " [1] top-level scope",
      "   @ In[25]:1"
     ]
    }
   ],
   "source": [
    "length(ds[1])"
   ]
  },
  {
   "cell_type": "code",
   "execution_count": 26,
   "id": "a370985e-73ce-4e5c-ae13-2341c0b46c6d",
   "metadata": {},
   "outputs": [
    {
     "ename": "LoadError",
     "evalue": "UndefVarError: `ds` not defined",
     "output_type": "error",
     "traceback": [
      "UndefVarError: `ds` not defined",
      "",
      "Stacktrace:",
      " [1] top-level scope",
      "   @ In[26]:1"
     ]
    }
   ],
   "source": [
    "ds[1][1]"
   ]
  },
  {
   "cell_type": "code",
   "execution_count": 27,
   "id": "ea049868-7bba-41c5-9599-4be383587bfd",
   "metadata": {},
   "outputs": [
    {
     "ename": "LoadError",
     "evalue": "UndefVarError: `Con` not defined",
     "output_type": "error",
     "traceback": [
      "UndefVarError: `Con` not defined",
      "",
      "Stacktrace:",
      " [1] top-level scope",
      "   @ In[27]:12"
     ]
    }
   ],
   "source": [
    "durnos = Dict('B'=>8.0,'W'=>4.0,'H'=>2.0,'Q'=>1.0,'E'=>0.5,'S'=>0.25,'T'=>0.125,'Y'=>0.0625,'Z'=>0.03125)\n",
    "\n",
    "getdurno(s) = begin\n",
    "    x = durnos[s[1]]\n",
    "    length(s)==1 && return x\n",
    "    return x + (x/2)\n",
    "end\n",
    "\n",
    "struct NDUR <: CHARM.Attribute{:NDUR,Float64} end\n",
    "CHARM.__attributes__(::Val{:NDUR}) = NDUR()\n",
    "\n",
    "CHARM.geta(::NDUR,x::Con{Note{n}}) where n = getdurno(geta(:DUR,x))"
   ]
  },
  {
   "cell_type": "code",
   "execution_count": 28,
   "id": "21b746a4-c0b5-43e3-add6-c6214b9d538d",
   "metadata": {},
   "outputs": [
    {
     "ename": "LoadError",
     "evalue": "UndefVarError: `Note` not defined",
     "output_type": "error",
     "traceback": [
      "UndefVarError: `Note` not defined",
      "",
      "Stacktrace:",
      " [1] top-level scope",
      "   @ In[28]:1"
     ]
    }
   ],
   "source": [
    "geta(:NDUR,Con(Note{1}()))"
   ]
  },
  {
   "cell_type": "code",
   "execution_count": null,
   "id": "ad98ea6f-1f39-477c-8379-faea62724ba0",
   "metadata": {},
   "outputs": [],
   "source": []
  }
 ],
 "metadata": {
  "kernelspec": {
   "display_name": "Julia 1.10.4",
   "language": "julia",
   "name": "julia-1.10"
  },
  "language_info": {
   "file_extension": ".jl",
   "mimetype": "application/julia",
   "name": "julia",
   "version": "1.10.5"
  }
 },
 "nbformat": 4,
 "nbformat_minor": 5
}
