{
 "cells": [
  {
   "cell_type": "markdown",
   "id": "031c41cc-36ba-4af7-8233-19a12a41789c",
   "metadata": {},
   "source": [
    "# A Common Hierarchical Abstract Representation of Music: applications in historical musicology\n",
    "\n",
    "Coming soon."
   ]
  }
 ],
 "metadata": {
  "kernelspec": {
   "display_name": "Julia 1.10.4",
   "language": "julia",
   "name": "julia-1.10"
  },
  "language_info": {
   "file_extension": ".jl",
   "mimetype": "application/julia",
   "name": "julia",
   "version": "1.10.5"
  }
 },
 "nbformat": 4,
 "nbformat_minor": 5
}
